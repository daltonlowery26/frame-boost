{
 "cells": [
  {
   "cell_type": "markdown",
   "id": "6351d3e7",
   "metadata": {},
   "source": [
    "##### create base of timing csv"
   ]
  },
  {
   "cell_type": "code",
   "execution_count": 20,
   "id": "6a029ceb",
   "metadata": {},
   "outputs": [],
   "source": [
    "import os\n",
    "import pandas as pd\n",
    "import numpy as np"
   ]
  },
  {
   "cell_type": "code",
   "execution_count": 21,
   "id": "675095cb",
   "metadata": {},
   "outputs": [],
   "source": [
    "video_directory = \"C:/Users/dalto/OneDrive/Pictures/Documents/Projects/Coding Projects/Frame Rate/video/elite_boosted/\""
   ]
  },
  {
   "cell_type": "code",
   "execution_count": 22,
   "id": "c6aa3556",
   "metadata": {},
   "outputs": [],
   "source": [
    "video_files = os.listdir(video_directory)\n",
    "video_files = video_files * 4\n",
    "df = pd.DataFrame(video_files, columns=['name'])\n",
    "df['release_point'] = np.nan"
   ]
  },
  {
   "cell_type": "code",
   "execution_count": null,
   "id": "89c69db0",
   "metadata": {},
   "outputs": [],
   "source": [
    "df['speed'] = df['name'].str.split('_').str[2]\n",
    "df['speed'] = df['speed'].astype('float')\n",
    "df['tt_home'] = (0.01147727/ df['speed'])*60*60*1000\n",
    "labels = [155, 165, 175, 185]\n",
    "df = df.sort_values(by=['name'])\n",
    "df['label'] = np.array(labels)[df.index % len(labels)]"
   ]
  },
  {
   "cell_type": "code",
   "execution_count": 24,
   "id": "fe8228d4",
   "metadata": {},
   "outputs": [],
   "source": [
    "df.to_csv('elite_video_timing.csv')"
   ]
  }
 ],
 "metadata": {
  "kernelspec": {
   "display_name": "base",
   "language": "python",
   "name": "python3"
  },
  "language_info": {
   "codemirror_mode": {
    "name": "ipython",
    "version": 3
   },
   "file_extension": ".py",
   "mimetype": "text/x-python",
   "name": "python",
   "nbconvert_exporter": "python",
   "pygments_lexer": "ipython3",
   "version": "3.12.7"
  }
 },
 "nbformat": 4,
 "nbformat_minor": 5
}
